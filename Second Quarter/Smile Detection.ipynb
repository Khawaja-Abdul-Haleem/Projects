{
 "cells": [
  {
   "cell_type": "code",
   "execution_count": 1,
   "metadata": {},
   "outputs": [],
   "source": [
    "import cv2"
   ]
  },
  {
   "cell_type": "code",
   "execution_count": 15,
   "metadata": {},
   "outputs": [],
   "source": [
    "xml = r'C:\\Users\\Haier\\Desktop\\kah\\face.xml' # harcascade file (library to detect face) \n",
    "eyes_xml =  r'C:\\Users\\Haier\\Desktop\\kah\\eye.xml'\n",
    "smile_xml =  r'C:\\Users\\Haier\\Desktop\\kah\\smile.xml'\n",
    "\n",
    "face_cascade = cv2.CascadeClassifier(xml)\n",
    "eye_cascade = cv2.CascadeClassifier(eyes_xml)\n",
    "smile_cascade = cv2.CascadeClassifier(smile_xml)\n",
    "\n",
    "cam = cv2.VideoCapture(0)\n",
    "while True:\n",
    "    ret,frame = cam.read()\n",
    "    faces = face_cascade.detectMultiScale(frame,1.2,5)\n",
    "    eyes = eye_cascade.detectMultiScale(frame,1.2,5)\n",
    "    smile = smile_cascade.detectMultiScale(frame,1.8, 10)\n",
    "    for (x,y,w,h) in faces:\n",
    "        cv2.rectangle(frame, (x,y), (x+w, y+h), (255,0,0), 3)\n",
    "        for (ex,ey,ew,eh) in eyes:\n",
    "            cv2.rectangle(frame, (ex,ey), (ex+ew, ey+eh), (0,255,0), 2)\n",
    "        for (sx,sy,sw,sh) in smile:\n",
    "            cv2.rectangle(frame, (sx,sy), (sx+sw, sy+sh), (0,255,255), 2)\n",
    "    cv2.imshow(\"K.A.H_Web-Cam\", frame)\n",
    "    if cv2.waitKey(1) == 13: # 13 is a ASCII Code of Enter\n",
    "        break\n",
    "cam.release()\n",
    "cv2.destroyAllWindows()"
   ]
  }
 ],
 "metadata": {
  "kernelspec": {
   "display_name": "Python 3",
   "language": "python",
   "name": "python3"
  },
  "language_info": {
   "codemirror_mode": {
    "name": "ipython",
    "version": 3
   },
   "file_extension": ".py",
   "mimetype": "text/x-python",
   "name": "python",
   "nbconvert_exporter": "python",
   "pygments_lexer": "ipython3",
   "version": "3.7.3"
  }
 },
 "nbformat": 4,
 "nbformat_minor": 4
}
