{
 "cells": [
  {
   "cell_type": "code",
   "execution_count": 1,
   "metadata": {},
   "outputs": [],
   "source": [
    "import numpy as np\n",
    "import cv2\n",
    "cam = cv2.VideoCapture(0)\n",
    "while True:\n",
    "    ret, frame = cam.read()\n",
    "    hsv = cv2.cvtColor(frame, cv2.COLOR_BGR2HSV) # hue saturation value\n",
    "    # Red Color\n",
    "    low = np.array([140,150,0])\n",
    "    high = np.array([180, 255, 255])\n",
    "    img_mask = cv2.inRange(hsv, low, high)\n",
    "    output = cv2.bitwise_and(frame, frame, mask = img_mask)\n",
    "    cv2.imshow(\"Original\", frame)\n",
    "    cv2.imshow(\"Mask\", img_mask)\n",
    "    cv2.imshow(\"Output\", output)\n",
    "    if cv2.waitKey(1) == 13: \n",
    "        break\n",
    "cam.release()\n",
    "cv2.destroyAllWindows()\n",
    "      \n",
    " # BLUE Color\n",
    "#    low = np.array([100,50,50])\n",
    "#    high = np.array([140, 255, 255])\n",
    "    \n",
    " # GREEN Color\n",
    "#    low = np.array([40,150,0])\n",
    "#    high = np.array([80, 255, 255])\n"
   ]
  }
 ],
 "metadata": {
  "kernelspec": {
   "display_name": "Python 3",
   "language": "python",
   "name": "python3"
  },
  "language_info": {
   "codemirror_mode": {
    "name": "ipython",
    "version": 3
   },
   "file_extension": ".py",
   "mimetype": "text/x-python",
   "name": "python",
   "nbconvert_exporter": "python",
   "pygments_lexer": "ipython3",
   "version": "3.7.3"
  }
 },
 "nbformat": 4,
 "nbformat_minor": 4
}
